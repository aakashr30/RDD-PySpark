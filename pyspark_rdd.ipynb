{
  "nbformat": 4,
  "nbformat_minor": 0,
  "metadata": {
    "colab": {
      "name": "pyspark rdd.ipynb",
      "provenance": [],
      "authorship_tag": "ABX9TyNyQVSYrE2fl9qalCUIBi27",
      "include_colab_link": true
    },
    "kernelspec": {
      "name": "python3",
      "display_name": "Python 3"
    },
    "language_info": {
      "name": "python"
    }
  },
  "cells": [
    {
      "cell_type": "markdown",
      "metadata": {
        "id": "view-in-github",
        "colab_type": "text"
      },
      "source": [
        "<a href=\"https://colab.research.google.com/github/aakashr30/RDD-PySpark/blob/main/pyspark_rdd.ipynb\" target=\"_parent\"><img src=\"https://colab.research.google.com/assets/colab-badge.svg\" alt=\"Open In Colab\"/></a>"
      ]
    },
    {
      "cell_type": "code",
      "execution_count": null,
      "metadata": {
        "colab": {
          "base_uri": "https://localhost:8080/"
        },
        "id": "y_qmu9uFLoaf",
        "outputId": "605ec2a4-6ade-40cb-81ad-fe84cef607fd"
      },
      "outputs": [
        {
          "output_type": "stream",
          "name": "stdout",
          "text": [
            "Looking in indexes: https://pypi.org/simple, https://us-python.pkg.dev/colab-wheels/public/simple/\n",
            "Collecting pyspark\n",
            "  Downloading pyspark-3.2.1.tar.gz (281.4 MB)\n",
            "\u001b[K     |████████████████████████████████| 281.4 MB 41 kB/s \n",
            "\u001b[?25hCollecting py4j==0.10.9.3\n",
            "  Downloading py4j-0.10.9.3-py2.py3-none-any.whl (198 kB)\n",
            "\u001b[K     |████████████████████████████████| 198 kB 81.9 MB/s \n",
            "\u001b[?25hBuilding wheels for collected packages: pyspark\n",
            "  Building wheel for pyspark (setup.py) ... \u001b[?25l\u001b[?25hdone\n",
            "  Created wheel for pyspark: filename=pyspark-3.2.1-py2.py3-none-any.whl size=281853642 sha256=0d03638536adaa4c4103f515a78f276166f6ffd21c3ddde81a75eb0becdf30b7\n",
            "  Stored in directory: /root/.cache/pip/wheels/9f/f5/07/7cd8017084dce4e93e84e92efd1e1d5334db05f2e83bcef74f\n",
            "Successfully built pyspark\n",
            "Installing collected packages: py4j, pyspark\n",
            "Successfully installed py4j-0.10.9.3 pyspark-3.2.1\n"
          ]
        }
      ],
      "source": [
        "!pip install pyspark\n",
        "import pyspark"
      ]
    },
    {
      "cell_type": "code",
      "source": [
        "pyspark.__version__"
      ],
      "metadata": {
        "colab": {
          "base_uri": "https://localhost:8080/",
          "height": 35
        },
        "id": "ExahOOTbNgJR",
        "outputId": "70b4ac5a-95c5-4e05-a5d6-6e34ad760bd9"
      },
      "execution_count": null,
      "outputs": [
        {
          "output_type": "execute_result",
          "data": {
            "text/plain": [
              "'3.2.1'"
            ],
            "application/vnd.google.colaboratory.intrinsic+json": {
              "type": "string"
            }
          },
          "metadata": {},
          "execution_count": 2
        }
      ]
    },
    {
      "cell_type": "code",
      "source": [
        "# create entry points to spark\n",
        "try:\n",
        "    sc.stop()\n",
        "except:\n",
        "    pass\n",
        "####################################################################\n",
        "from pyspark import SparkContext, SparkConf\n",
        "#####################################################################\n",
        "from pyspark.sql import SparkSession\n",
        "############################################################\n",
        "sc=SparkContext()\n",
        "################################################################\n",
        "spark = SparkSession(sparkContext=sc)"
      ],
      "metadata": {
        "id": "WGYpH0elNkKl"
      },
      "execution_count": null,
      "outputs": []
    },
    {
      "cell_type": "markdown",
      "source": [
        "\n",
        "* **RDD** object\n",
        "The class pyspark.SparkContext creates a client which connects to a Spark cluster. This client can be used to create an RDD object. There are two methods from this class for directly creating RDD objects:\n",
        "\n",
        "parallelize()\n",
        "textFile()\n",
        "parallelize()\n",
        "parallelize() distribute a local python collection to form an RDD. Common built-in python collections include dist, list, tuple or set.*"
      ],
      "metadata": {
        "id": "-LOS-Vh9QG9M"
      }
    },
    {
      "cell_type": "code",
      "source": [
        "# from a list\n",
        "rdd = sc.parallelize([1,2,3])\n",
        "\n",
        "rdd.collect()"
      ],
      "metadata": {
        "colab": {
          "base_uri": "https://localhost:8080/"
        },
        "id": "LJeQN3N7NwIQ",
        "outputId": "42a3f466-d63f-4eef-81d9-99a8efa3405f"
      },
      "execution_count": null,
      "outputs": [
        {
          "output_type": "execute_result",
          "data": {
            "text/plain": [
              "[1, 2, 3]"
            ]
          },
          "metadata": {},
          "execution_count": 4
        }
      ]
    },
    {
      "cell_type": "code",
      "source": [
        "mylist = [120,2343,456,789,890]\n",
        "\n",
        "rdd_mylist = sc.parallelize(mylist)\n",
        "\n",
        "print(rdd_mylist.collect())\n",
        "\n",
        "print(rdd_mylist.collect)"
      ],
      "metadata": {
        "id": "POfgbeqURI2k",
        "outputId": "17f783f0-5edc-42ec-b3c6-bcdea261bb24",
        "colab": {
          "base_uri": "https://localhost:8080/"
        }
      },
      "execution_count": null,
      "outputs": [
        {
          "output_type": "stream",
          "name": "stdout",
          "text": [
            "[120, 2343, 456, 789, 890]\n",
            "<bound method RDD.collect of ParallelCollectionRDD[1] at readRDDFromFile at PythonRDD.scala:274>\n"
          ]
        }
      ]
    },
    {
      "cell_type": "code",
      "source": [
        ""
      ],
      "metadata": {
        "id": "MYwFbsVHRNsH"
      },
      "execution_count": null,
      "outputs": []
    }
  ]
}